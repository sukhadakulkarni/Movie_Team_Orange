{
 "cells": [
  {
   "cell_type": "code",
   "execution_count": 16,
   "metadata": {
    "collapsed": true
   },
   "outputs": [],
   "source": [
    "import os\n",
    "import json\n",
    "from pprint import pprint\n",
    "import matplotlib.pyplot as plt\n",
    "import seaborn as sns\n",
    "import pandas as pd\n",
    "from operator import is_not\n",
    "from functools import partial\n",
    "import math\n",
    "import re\n",
    "import numpy\n",
    "#load our cutomized data load module\n",
    "import loaddata"
   ]
  },
  {
   "cell_type": "code",
   "execution_count": 2,
   "metadata": {
    "collapsed": false,
    "scrolled": true
   },
   "outputs": [
    {
     "name": "stdout",
     "output_type": "stream",
     "text": [
      "Parsed 3728 movies from 3728 files\n",
      "Parsed 4765 metacritic files from 4767 files\n"
     ]
    },
    {
     "data": {
      "text/html": [
       "<div>\n",
       "<table border=\"1\" class=\"dataframe\">\n",
       "  <thead>\n",
       "    <tr style=\"text-align: right;\">\n",
       "      <th></th>\n",
       "      <th>alt_title</th>\n",
       "      <th>director_x</th>\n",
       "      <th>domestic_gross</th>\n",
       "      <th>mojo_slug</th>\n",
       "      <th>opening_per_theater</th>\n",
       "      <th>opening_weekend_take</th>\n",
       "      <th>production_budget</th>\n",
       "      <th>release_date_limited</th>\n",
       "      <th>release_date_wide</th>\n",
       "      <th>title_x</th>\n",
       "      <th>...</th>\n",
       "      <th>num_critic_reviews</th>\n",
       "      <th>num_user_ratings</th>\n",
       "      <th>num_user_reviews</th>\n",
       "      <th>rating</th>\n",
       "      <th>release_date</th>\n",
       "      <th>runtime_minutes</th>\n",
       "      <th>studio</th>\n",
       "      <th>title_y</th>\n",
       "      <th>unable to retrieve</th>\n",
       "      <th>user_score</th>\n",
       "    </tr>\n",
       "  </thead>\n",
       "  <tbody>\n",
       "    <tr>\n",
       "      <th>0</th>\n",
       "      <td>10,000 B.C. (2008)</td>\n",
       "      <td>Roland Emmerich</td>\n",
       "      <td>94784201.0</td>\n",
       "      <td>10000bc</td>\n",
       "      <td>10518.0</td>\n",
       "      <td>35867488.0</td>\n",
       "      <td>105000000.0</td>\n",
       "      <td>None</td>\n",
       "      <td>2008-03-07</td>\n",
       "      <td>10,000 B.C.</td>\n",
       "      <td>...</td>\n",
       "      <td>4, 8, 17, 29</td>\n",
       "      <td>273.0</td>\n",
       "      <td>50, 18, 60, 128</td>\n",
       "      <td>PG-13</td>\n",
       "      <td>2008-03-07</td>\n",
       "      <td>109.0</td>\n",
       "      <td>Warner Bros. Pictures</td>\n",
       "      <td>10,000 BC</td>\n",
       "      <td>NaN</td>\n",
       "      <td>4.6</td>\n",
       "    </tr>\n",
       "    <tr>\n",
       "      <th>1</th>\n",
       "      <td>102 Dalmatians (2000)</td>\n",
       "      <td>None</td>\n",
       "      <td>66957026.0</td>\n",
       "      <td>102dalmatians</td>\n",
       "      <td>7353.0</td>\n",
       "      <td>19883351.0</td>\n",
       "      <td>85000000.0</td>\n",
       "      <td>None</td>\n",
       "      <td>2000-11-22</td>\n",
       "      <td>102 Dalmatians</td>\n",
       "      <td>...</td>\n",
       "      <td>7, 5, 12, 24</td>\n",
       "      <td>47.0</td>\n",
       "      <td>7, 3, 3, 13</td>\n",
       "      <td>G</td>\n",
       "      <td>2000-11-22</td>\n",
       "      <td>100.0</td>\n",
       "      <td>Buena Vista Pictures</td>\n",
       "      <td>102 Dalmatians</td>\n",
       "      <td>NaN</td>\n",
       "      <td>5.3</td>\n",
       "    </tr>\n",
       "    <tr>\n",
       "      <th>2</th>\n",
       "      <td>10 Things I Hate About You (1999)</td>\n",
       "      <td>None</td>\n",
       "      <td>38178166.0</td>\n",
       "      <td>10thingsihateaboutyou</td>\n",
       "      <td>3668.0</td>\n",
       "      <td>8330681.0</td>\n",
       "      <td>30000000.0</td>\n",
       "      <td>None</td>\n",
       "      <td>1999-03-31</td>\n",
       "      <td>10 Things I Hate About You</td>\n",
       "      <td>...</td>\n",
       "      <td>18, 7, 1, 26</td>\n",
       "      <td>175.0</td>\n",
       "      <td>27, 1, 1, 29</td>\n",
       "      <td>PG-13</td>\n",
       "      <td>1999-03-31</td>\n",
       "      <td>97.0</td>\n",
       "      <td>Buena Vista Pictures</td>\n",
       "      <td>10 Things I Hate About You</td>\n",
       "      <td>NaN</td>\n",
       "      <td>7</td>\n",
       "    </tr>\n",
       "    <tr>\n",
       "      <th>3</th>\n",
       "      <td>10 Years (2012)</td>\n",
       "      <td>Jamie Linden</td>\n",
       "      <td>203373.0</td>\n",
       "      <td>10years</td>\n",
       "      <td>7569.0</td>\n",
       "      <td>22707.0</td>\n",
       "      <td>NaN</td>\n",
       "      <td>None</td>\n",
       "      <td>2012-09-14</td>\n",
       "      <td>10 Years</td>\n",
       "      <td>...</td>\n",
       "      <td>7, 11, 0, 18</td>\n",
       "      <td>12.0</td>\n",
       "      <td>3, 2, 1, 6</td>\n",
       "      <td>R</td>\n",
       "      <td>2012-09-14</td>\n",
       "      <td>100.0</td>\n",
       "      <td>Anchor Bay Entertainment</td>\n",
       "      <td>10 Years</td>\n",
       "      <td>NaN</td>\n",
       "      <td>6.6</td>\n",
       "    </tr>\n",
       "    <tr>\n",
       "      <th>4</th>\n",
       "      <td>11 Flowers (2013)</td>\n",
       "      <td>None</td>\n",
       "      <td>9213.0</td>\n",
       "      <td>11flowers</td>\n",
       "      <td>1758.0</td>\n",
       "      <td>3516.0</td>\n",
       "      <td>NaN</td>\n",
       "      <td>None</td>\n",
       "      <td>2013-02-22</td>\n",
       "      <td>11 Flowers</td>\n",
       "      <td>...</td>\n",
       "      <td>4, 3, 0, 7</td>\n",
       "      <td>NaN</td>\n",
       "      <td>1, 0, 0, 1</td>\n",
       "      <td>Not Rated</td>\n",
       "      <td>2013-02-22</td>\n",
       "      <td>110.0</td>\n",
       "      <td>First Run Features</td>\n",
       "      <td>11 Flowers</td>\n",
       "      <td>NaN</td>\n",
       "      <td>tbd</td>\n",
       "    </tr>\n",
       "  </tbody>\n",
       "</table>\n",
       "<p>5 rows × 29 columns</p>\n",
       "</div>"
      ],
      "text/plain": [
       "                           alt_title       director_x  domestic_gross  \\\n",
       "0                 10,000 B.C. (2008)  Roland Emmerich      94784201.0   \n",
       "1              102 Dalmatians (2000)             None      66957026.0   \n",
       "2  10 Things I Hate About You (1999)             None      38178166.0   \n",
       "3                    10 Years (2012)     Jamie Linden        203373.0   \n",
       "4                  11 Flowers (2013)             None          9213.0   \n",
       "\n",
       "               mojo_slug  opening_per_theater  opening_weekend_take  \\\n",
       "0                10000bc              10518.0            35867488.0   \n",
       "1          102dalmatians               7353.0            19883351.0   \n",
       "2  10thingsihateaboutyou               3668.0             8330681.0   \n",
       "3                10years               7569.0               22707.0   \n",
       "4              11flowers               1758.0                3516.0   \n",
       "\n",
       "   production_budget release_date_limited release_date_wide  \\\n",
       "0        105000000.0                 None        2008-03-07   \n",
       "1         85000000.0                 None        2000-11-22   \n",
       "2         30000000.0                 None        1999-03-31   \n",
       "3                NaN                 None        2012-09-14   \n",
       "4                NaN                 None        2013-02-22   \n",
       "\n",
       "                      title_x    ...      num_critic_reviews  \\\n",
       "0                 10,000 B.C.    ...            4, 8, 17, 29   \n",
       "1             102 Dalmatians     ...            7, 5, 12, 24   \n",
       "2  10 Things I Hate About You    ...            18, 7, 1, 26   \n",
       "3                    10 Years    ...            7, 11, 0, 18   \n",
       "4                 11 Flowers     ...              4, 3, 0, 7   \n",
       "\n",
       "   num_user_ratings  num_user_reviews     rating release_date runtime_minutes  \\\n",
       "0             273.0   50, 18, 60, 128      PG-13   2008-03-07           109.0   \n",
       "1              47.0       7, 3, 3, 13          G   2000-11-22           100.0   \n",
       "2             175.0      27, 1, 1, 29      PG-13   1999-03-31            97.0   \n",
       "3              12.0        3, 2, 1, 6          R   2012-09-14           100.0   \n",
       "4               NaN        1, 0, 0, 1  Not Rated   2013-02-22           110.0   \n",
       "\n",
       "                     studio                     title_y  unable to retrieve  \\\n",
       "0     Warner Bros. Pictures                   10,000 BC                 NaN   \n",
       "1      Buena Vista Pictures              102 Dalmatians                 NaN   \n",
       "2      Buena Vista Pictures  10 Things I Hate About You                 NaN   \n",
       "3  Anchor Bay Entertainment                    10 Years                 NaN   \n",
       "4        First Run Features                  11 Flowers                 NaN   \n",
       "\n",
       "  user_score  \n",
       "0        4.6  \n",
       "1        5.3  \n",
       "2          7  \n",
       "3        6.6  \n",
       "4        tbd  \n",
       "\n",
       "[5 rows x 29 columns]"
      ]
     },
     "execution_count": 2,
     "metadata": {},
     "output_type": "execute_result"
    }
   ],
   "source": [
    "#this code read files under two folder and merge them together into one data frame\n",
    "#1 Read mojo files\n",
    "mojo_data = loaddata.load_mojo_data()\n",
    "mojo_df = pd.DataFrame(mojo_data)\n",
    "mojo_df['title_clean'] = mojo_df['title'].str.replace('[^\\w]','').str.lower()\n",
    "#2 Read meta files\n",
    "meta_data = loaddata.load_metacritic_data()\n",
    "meta_df = pd.DataFrame(meta_data)\n",
    "meta_df['title_clean'] = meta_df['title'].str.replace('[^\\w]','').str.lower()\n",
    "#3 Merge two file together\n",
    "df_merged = pd.merge(mojo_df, \n",
    "                     meta_df,\n",
    "                     on=['title_clean','year'],\n",
    "                     how = 'left')\n",
    "# check the final data frame\n",
    "df_merged.head()"
   ]
  },
  {
   "cell_type": "code",
   "execution_count": 6,
   "metadata": {
    "collapsed": false
   },
   "outputs": [
    {
     "data": {
      "text/plain": [
       "3728"
      ]
     },
     "execution_count": 6,
     "metadata": {},
     "output_type": "execute_result"
    }
   ],
   "source": [
    "len(df_merged)"
   ]
  },
  {
   "cell_type": "code",
   "execution_count": 3,
   "metadata": {
    "collapsed": false
   },
   "outputs": [
    {
     "data": {
      "text/plain": [
       "[u'alt_title',\n",
       " u'director_x',\n",
       " u'domestic_gross',\n",
       " u'mojo_slug',\n",
       " u'opening_per_theater',\n",
       " u'opening_weekend_take',\n",
       " u'production_budget',\n",
       " u'release_date_limited',\n",
       " u'release_date_wide',\n",
       " u'title_x',\n",
       " u'widest_release',\n",
       " u'worldwide_gross',\n",
       " u'year_x',\n",
       " 'title_clean',\n",
       " u'complete',\n",
       " u'director_y',\n",
       " u'genre',\n",
       " u'metacritic_page',\n",
       " u'metascore',\n",
       " u'num_critic_reviews',\n",
       " u'num_user_ratings',\n",
       " u'num_user_reviews',\n",
       " u'rating',\n",
       " u'release_date',\n",
       " u'runtime_minutes',\n",
       " u'studio',\n",
       " u'title_y',\n",
       " u'unable to retrieve',\n",
       " u'user_score',\n",
       " u'year_y']"
      ]
     },
     "execution_count": 3,
     "metadata": {},
     "output_type": "execute_result"
    }
   ],
   "source": [
    "list(df_merged.columns.values)\n",
    "#target variables are: \n",
    "opening_weekend_take\n",
    "domestic_gross\n",
    "worldwide_gross"
   ]
  },
  {
   "cell_type": "code",
   "execution_count": 9,
   "metadata": {
    "collapsed": false
   },
   "outputs": [
    {
     "data": {
      "text/plain": [
       "alt_title                 0.000000\n",
       "director_x               41.738197\n",
       "domestic_gross            2.011803\n",
       "mojo_slug                 0.000000\n",
       "opening_per_theater       4.828326\n",
       "opening_weekend_take      4.828326\n",
       "production_budget        57.322961\n",
       "release_date_limited     92.140558\n",
       "release_date_wide         0.268240\n",
       "title_x                   0.000000\n",
       "widest_release            4.077253\n",
       "worldwide_gross          24.329399\n",
       "year                      0.187768\n",
       "title_clean               0.000000\n",
       "complete                 10.219957\n",
       "director_y               10.219957\n",
       "genre                    10.219957\n",
       "metacritic_page          10.219957\n",
       "metascore                12.258584\n",
       "num_critic_reviews       10.219957\n",
       "num_user_ratings         14.002146\n",
       "num_user_reviews         10.219957\n",
       "rating                   10.219957\n",
       "release_date             10.219957\n",
       "runtime_minutes          11.641631\n",
       "studio                   10.702790\n",
       "title_y                  10.219957\n",
       "unable to retrieve      100.000000\n",
       "user_score               10.219957\n",
       "dtype: float64"
      ]
     },
     "execution_count": 9,
     "metadata": {},
     "output_type": "execute_result"
    }
   ],
   "source": [
    "((len(df_merged) - df_merged.count())*100)/len(df_merged)"
   ]
  },
  {
   "cell_type": "code",
   "execution_count": 34,
   "metadata": {
    "collapsed": false
   },
   "outputs": [
    {
     "data": {
      "text/plain": [
       "alt_title                object\n",
       "director_x               object\n",
       "domestic_gross          float64\n",
       "mojo_slug                object\n",
       "opening_per_theater     float64\n",
       "opening_weekend_take    float64\n",
       "production_budget       float64\n",
       "release_date_limited     object\n",
       "release_date_wide        object\n",
       "title_x                  object\n",
       "widest_release          float64\n",
       "worldwide_gross         float64\n",
       "year                    float64\n",
       "title_clean              object\n",
       "complete                 object\n",
       "director_y               object\n",
       "genre                    object\n",
       "metacritic_page          object\n",
       "metascore               float64\n",
       "num_critic_reviews       object\n",
       "num_user_ratings        float64\n",
       "num_user_reviews         object\n",
       "rating                   object\n",
       "release_date             object\n",
       "runtime_minutes         float64\n",
       "studio                   object\n",
       "title_y                  object\n",
       "unable to retrieve       object\n",
       "user_score              float64\n",
       "year_date               float64\n",
       "dtype: object"
      ]
     },
     "execution_count": 34,
     "metadata": {},
     "output_type": "execute_result"
    }
   ],
   "source": [
    "df_merged.dtypes"
   ]
  },
  {
   "cell_type": "code",
   "execution_count": 33,
   "metadata": {
    "collapsed": false
   },
   "outputs": [
    {
     "name": "stderr",
     "output_type": "stream",
     "text": [
      "/Applications/anaconda/lib/python2.7/site-packages/ipykernel/__main__.py:1: FutureWarning: convert_objects is deprecated.  Use the data-type specific converters pd.to_datetime, pd.to_timedelta and pd.to_numeric.\n",
      "  if __name__ == '__main__':\n",
      "/Applications/anaconda/lib/python2.7/site-packages/ipykernel/__main__.py:3: FutureWarning: convert_objects is deprecated.  Use the data-type specific converters pd.to_datetime, pd.to_timedelta and pd.to_numeric.\n",
      "  app.launch_new_instance()\n"
     ]
    }
   ],
   "source": [
    "df_merged['user_score'] = df_merged['user_score'].convert_objects(convert_numeric=True)\n",
    "\n",
    "df_merged['year_date'] = df_merged['year'].convert_objects(convert_dates=True)\n",
    "\n",
    "\n",
    "\n",
    "\n"
   ]
  },
  {
   "cell_type": "code",
   "execution_count": 39,
   "metadata": {
    "collapsed": false
   },
   "outputs": [
    {
     "data": {
      "text/plain": [
       "Int64Index([   1,    2,    4,    5,    8,   10,   12,   13,   16,   18,\n",
       "            ...\n",
       "            3706, 3707, 3708, 3714, 3716, 3717, 3719, 3720, 3722, 3723],\n",
       "           dtype='int64', length=1916)"
      ]
     },
     "execution_count": 39,
     "metadata": {},
     "output_type": "execute_result"
    }
   ],
   "source": [
    "row_ids = df_merged[df_merged[\"director_x\"] != df_merged[\"director_y\"]].index\n",
    "row_ids"
   ]
  },
  {
   "cell_type": "code",
   "execution_count": 4,
   "metadata": {
    "collapsed": false
   },
   "outputs": [
    {
     "data": {
      "text/plain": [
       "(5, 29)"
      ]
     },
     "execution_count": 4,
     "metadata": {},
     "output_type": "execute_result"
    }
   ],
   "source": [
    "dup=df_merged[df_merged.duplicated(subset=['title_x'], keep=False)]\n",
    "dup.shape\n"
   ]
  },
  {
   "cell_type": "code",
   "execution_count": null,
   "metadata": {
    "collapsed": true
   },
   "outputs": [],
   "source": []
  }
 ],
 "metadata": {
  "kernelspec": {
   "display_name": "Python 2",
   "language": "python",
   "name": "python2"
  },
  "language_info": {
   "codemirror_mode": {
    "name": "ipython",
    "version": 2
   },
   "file_extension": ".py",
   "mimetype": "text/x-python",
   "name": "python",
   "nbconvert_exporter": "python",
   "pygments_lexer": "ipython2",
   "version": "2.7.11"
  }
 },
 "nbformat": 4,
 "nbformat_minor": 0
}
